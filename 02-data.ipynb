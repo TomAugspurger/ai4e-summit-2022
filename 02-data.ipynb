{
 "cells": [
  {
   "cell_type": "markdown",
   "id": "a3e39f26-ab03-467b-81f1-2da8f916f63f",
   "metadata": {},
   "source": [
    "# Data Access on the Planetary Computer\n",
    "\n",
    "All the data on the Planteary Computer stored in Azure Blob Storage. You *could* use APIs like `azure.storage.blob` to list blobs in containers to find the ones you want, but I wouldn't recommend it. Instead, we start with the Planetary Computer's STAC API.\n",
    "\n",
    "- Quickstart (Python): https://planetarycomputer.microsoft.com/docs/quickstarts/reading-stac/\n",
    "- Quickstart (R): https://planetarycomputer.microsoft.com/docs/quickstarts/reading-stac-r/\n",
    "- Reference: https://planetarycomputer.microsoft.com/docs/reference/stac/\n",
    "\n",
    "## Item search with STAC\n",
    "\n",
    "The Planetary Computer uses STAC, the SpatioTemporal Asset Catalog, to catalog all of the data available to you.\n",
    "\n"
   ]
  },
  {
   "cell_type": "code",
   "execution_count": null,
   "id": "320b4f3d-1de7-4090-83dc-c523f18f3d8b",
   "metadata": {},
   "outputs": [],
   "source": [
    "import pystac_client\n",
    "\n",
    "catalog = pystac_client.Client.open(\"https://planetarycomputer.microsoft.com/api/stac/v1\")\n",
    "catalog"
   ]
  },
  {
   "cell_type": "markdown",
   "id": "249c2707-a52e-4cea-ad4d-8aaea563e815",
   "metadata": {},
   "source": [
    "We'll be working with items roughly matching [this search](https://planetarycomputer.microsoft.com/explore?c=123.9678%2C-16.9770&z=8.71&d=sentinel-2-l2a&m=Most+recent+%28low+cloud%29&r=Natural+color) from the Explorer."
   ]
  },
  {
   "cell_type": "code",
   "execution_count": null,
   "id": "d4c54ea6-b2c5-4cf1-b69e-eadcd8bd1bf9",
   "metadata": {},
   "outputs": [],
   "source": [
    "%%time\n",
    "aoi = {\n",
    "  \"type\": \"Polygon\",\n",
    "  \"coordinates\": [\n",
    "    [\n",
    "      [122.97285864599655, -17.716650135965253],\n",
    "      [124.96269843337086, -17.716650135965253],\n",
    "      [124.96269843337086, -16.234522088978864],\n",
    "      [122.97285864599655, -16.234522088978864],\n",
    "      [122.97285864599655, -17.716650135965253]\n",
    "    ]\n",
    "  ]\n",
    "}\n",
    "\n",
    "items = catalog.search(\n",
    "    collections=[\"sentinel-2-l2a\"],\n",
    "    datetime=\"2022-01-01/2022-01-24\",\n",
    "    intersects=aoi,\n",
    ").get_all_items()\n",
    "len(items)"
   ]
  },
  {
   "cell_type": "markdown",
   "id": "291af531-372f-491e-a668-aa53c5183476",
   "metadata": {},
   "source": [
    "STAC items are OGC Features, and so can be treated kind of like data themselves. For example, we can load the items into geopandas to plot the footprints."
   ]
  },
  {
   "cell_type": "code",
   "execution_count": null,
   "id": "741a56be-99e9-4a86-bbbd-5b8491115f2b",
   "metadata": {},
   "outputs": [],
   "source": [
    "import pandas as pd\n",
    "import geopandas\n",
    "\n",
    "df = (\n",
    "    geopandas.GeoDataFrame.from_features(\n",
    "        items.to_dict()[\"features\"]\n",
    "    ).set_crs(4326)\n",
    ")\n",
    "df.head()"
   ]
  },
  {
   "cell_type": "code",
   "execution_count": null,
   "id": "1b033405-7ac7-48f7-b144-d7e9f337dfc4",
   "metadata": {},
   "outputs": [],
   "source": [
    "m = df[[\"geometry\", \"datetime\", \"s2:mgrs_tile\"]].explore(column=\"s2:mgrs_tile\", style_kwds=dict(fillOpacity=0.1))\n",
    "m"
   ]
  },
  {
   "cell_type": "code",
   "execution_count": null,
   "id": "023b457d-ee49-460b-9f63-232b9cf41c8c",
   "metadata": {},
   "outputs": [],
   "source": [
    "df.assign(datetime=pd.to_datetime(df.datetime)).set_index(\"datetime\")[\"eo:cloud_cover\"].plot(style=\"k.\");"
   ]
  },
  {
   "cell_type": "markdown",
   "id": "91a234a2-99c2-485b-b80b-0ca98ece46ba",
   "metadata": {},
   "source": [
    "Thus far, we've just worked with the metadata from the STAC API. To actually load the *data* from Azure Blob Storage, we'll first sign the assets."
   ]
  },
  {
   "cell_type": "code",
   "execution_count": null,
   "id": "351516ca-b871-4f31-a65c-a323994565ad",
   "metadata": {},
   "outputs": [],
   "source": [
    "import planetary_computer\n",
    "\n",
    "signed_items = planetary_computer.sign(items)"
   ]
  },
  {
   "cell_type": "code",
   "execution_count": null,
   "id": "8b1950e5-6cb7-469d-bb9a-19fff36fc26f",
   "metadata": {},
   "outputs": [],
   "source": [
    "import rasterio.plot\n",
    "import matplotlib.pyplot as plt"
   ]
  },
  {
   "cell_type": "code",
   "execution_count": null,
   "id": "dbf9772e-515b-40e8-8c56-92b2f1c89eed",
   "metadata": {},
   "outputs": [],
   "source": [
    "fig, ax = plt.subplots(figsize=(10, 10))\n",
    "\n",
    "ds = rasterio.open(signed_items[11].assets[\"preview\"].href)\n",
    "rasterio.plot.show(ds, ax=ax)\n",
    "ax.set_axis_off()"
   ]
  },
  {
   "cell_type": "markdown",
   "id": "897351bf-632f-4948-ae48-f00443d874ff",
   "metadata": {},
   "source": [
    "If you're working with a single asset, then you can use `rioxarray` to load in the geospatially referenced data."
   ]
  },
  {
   "cell_type": "code",
   "execution_count": null,
   "id": "fe28067d-f270-4e12-8fdd-af093e226f22",
   "metadata": {},
   "outputs": [],
   "source": [
    "%%time\n",
    "import rioxarray\n",
    "\n",
    "ds = rioxarray.open_rasterio(signed_items[0].assets[\"B04\"].href)\n",
    "ds"
   ]
  },
  {
   "cell_type": "markdown",
   "id": "239b8c93-c053-4c54-9c44-48a7cc8ff2ad",
   "metadata": {},
   "source": [
    "If you're working with multiple assets or items, then you can use `stackstac` to build a data cube."
   ]
  },
  {
   "cell_type": "code",
   "execution_count": null,
   "id": "375e5c0c-8d7e-4a2b-aaf0-7ddc25c250f0",
   "metadata": {},
   "outputs": [],
   "source": [
    "import stackstac\n",
    "\n",
    "ds = stackstac.stack(signed_items, assets=[\"B03\", \"B04\", \"B05\"])\n",
    "ds"
   ]
  },
  {
   "cell_type": "markdown",
   "id": "b386142e-ae38-4d6c-9e92-5cf6c71f3eeb",
   "metadata": {},
   "source": [
    "## Accessing Tabular data\n",
    "\n",
    "For tabular data, we'll again use STAC."
   ]
  },
  {
   "cell_type": "code",
   "execution_count": null,
   "id": "894cc1c5-a78c-4a8a-8fb2-8bcbd82f78d9",
   "metadata": {},
   "outputs": [],
   "source": [
    "fia = catalog.get_collection(\"us-census\")\n",
    "items = {\n",
    "    item.id: item for item in fia.get_all_items()\n",
    "}\n",
    "items"
   ]
  },
  {
   "cell_type": "code",
   "execution_count": null,
   "id": "fcfdf75a-9c49-44a0-b918-c97d410446fd",
   "metadata": {},
   "outputs": [],
   "source": [
    "import pandas as pd\n",
    "import dask.dataframe as dd\n",
    "import dask_geopandas"
   ]
  },
  {
   "cell_type": "code",
   "execution_count": null,
   "id": "6c1ebfea-f273-4cce-9a22-70c8f9ca5fbf",
   "metadata": {},
   "outputs": [],
   "source": [
    "states = items[\"2020-cb_2020_us_state_500k\"]\n",
    "asset = planetary_computer.sign(states.assets[\"data\"])\n",
    "states_df = (\n",
    "    geopandas.read_parquet(asset.href, storage_options=asset.extra_fields[\"table:storage_options\"])\n",
    "    .assign(geometry=lambda df: df.simplify(tolerance=0.01))\n",
    ")\n",
    "states_df.explore()"
   ]
  },
  {
   "cell_type": "markdown",
   "id": "dd1468c7-3e97-4243-95f3-7c0df2b4c39d",
   "metadata": {},
   "source": [
    "For large tables, you can use `dask.dataframe` or `dask-geopandas`."
   ]
  },
  {
   "cell_type": "code",
   "execution_count": null,
   "id": "8df25cb8-c6fc-4d28-b209-c13ef63dfa67",
   "metadata": {},
   "outputs": [],
   "source": [
    "geo_asset = planetary_computer.sign(items[\"2020-census-blocks-geo\"]).assets[\"data\"]\n",
    "\n",
    "geo = dask_geopandas.read_parquet(\n",
    "    geo_asset.href,\n",
    "    storage_options=geo_asset.extra_fields[\"table:storage_options\"],\n",
    ")\n",
    "geo"
   ]
  },
  {
   "cell_type": "code",
   "execution_count": null,
   "id": "8b9d3aea-d39a-4418-bdc2-f1a7c0874aa5",
   "metadata": {},
   "outputs": [],
   "source": [
    "%time len(geo)"
   ]
  },
  {
   "cell_type": "code",
   "execution_count": null,
   "id": "ea084de0-90d0-4ca4-b50d-991c19043b4d",
   "metadata": {},
   "outputs": [],
   "source": [
    "pop_asset = planetary_computer.sign(items[\"2020-census-blocks-population\"]).assets[\"data\"]\n",
    "\n",
    "pop = dask_geopandas.read_parquet(\n",
    "    pop_asset.href,\n",
    "    storage_options=pop_asset.extra_fields[\"table:storage_options\"],\n",
    ")\n",
    "pop"
   ]
  },
  {
   "cell_type": "code",
   "execution_count": null,
   "id": "6f27b6dd-64f3-4753-9c07-125172755e5f",
   "metadata": {},
   "outputs": [],
   "source": [
    "df = dd.merge(geo, pop)\n",
    "df"
   ]
  },
  {
   "cell_type": "markdown",
   "id": "de00eeb2-6f95-4fe4-9fe5-5f97b5f8fed3",
   "metadata": {},
   "source": [
    "### Earth Systems Science data\n",
    "\n",
    "This is typically stored as Zarr or NetCDF and loaded into xarray"
   ]
  },
  {
   "cell_type": "code",
   "execution_count": null,
   "id": "68fe20a0-35d7-4fc2-b097-a92a090087ed",
   "metadata": {},
   "outputs": [],
   "source": [
    "import pystac\n",
    "\n",
    "collection = catalog.get_collection(\"terraclimate\")\n",
    "collection"
   ]
  },
  {
   "cell_type": "code",
   "execution_count": null,
   "id": "5182459f-32bf-4454-8091-4d4c1953c3ac",
   "metadata": {},
   "outputs": [],
   "source": [
    "asset = planetary_computer.sign(collection.assets[\"zarr-abfs\"])\n",
    "asset"
   ]
  },
  {
   "cell_type": "code",
   "execution_count": null,
   "id": "67eda92e-bcb4-49ff-9f18-1c793b96b6cd",
   "metadata": {},
   "outputs": [],
   "source": [
    "import fsspec\n",
    "import xarray as xr\n",
    "\n",
    "store = fsspec.get_mapper(asset.href, **asset.extra_fields[\"xarray:storage_options\"])\n",
    "ds = xr.open_zarr(store, consolidated=True)\n",
    "ds"
   ]
  },
  {
   "cell_type": "code",
   "execution_count": null,
   "id": "0ae9123c-73bf-4e22-a970-5fd6c9857b5e",
   "metadata": {},
   "outputs": [],
   "source": [
    "import cartopy.crs as ccrs\n",
    "import matplotlib.pyplot as plt\n",
    "\n",
    "\n",
    "average_max_temp = ds.isel(time=-1)[\"tmax\"].coarsen(lat=8, lon=8).mean().load()\n",
    "\n",
    "fig, ax = plt.subplots(figsize=(20, 10), subplot_kw=dict(projection=ccrs.Robinson()))\n",
    "\n",
    "average_max_temp.plot(ax=ax, transform=ccrs.PlateCarree())\n",
    "ax.coastlines();"
   ]
  }
 ],
 "metadata": {
  "kernelspec": {
   "display_name": "Python 3 (ipykernel)",
   "language": "python",
   "name": "python3"
  },
  "language_info": {
   "codemirror_mode": {
    "name": "ipython",
    "version": 3
   },
   "file_extension": ".py",
   "mimetype": "text/x-python",
   "name": "python",
   "nbconvert_exporter": "python",
   "pygments_lexer": "ipython3",
   "version": "3.8.12"
  }
 },
 "nbformat": 4,
 "nbformat_minor": 5
}
