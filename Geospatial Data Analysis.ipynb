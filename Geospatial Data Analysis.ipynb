{
 "cells": [
  {
   "cell_type": "markdown",
   "id": "1a88dd96-2192-444a-82fd-e8a536006656",
   "metadata": {},
   "source": [
    "# Geospatial data analysis on the Planetary Computer\n",
    "\n",
    "This section covers various geospatial data analysis topics."
   ]
  },
  {
   "cell_type": "code",
   "execution_count": null,
   "id": "c55e7ff4-a81f-4fe9-9851-f80001f03e58",
   "metadata": {},
   "outputs": [],
   "source": [
    "import pystac_client\n",
    "import planetary_computer\n",
    "import stackstac\n",
    "import rasterio\n",
    "import xrspatial.multispectral\n",
    "import matplotlib.pyplot as plt\n",
    "import numpy as np\n",
    "\n",
    "from distributed import Client\n",
    "\n",
    "client = Client()\n",
    "client"
   ]
  },
  {
   "cell_type": "markdown",
   "id": "84c5d720-9bb1-4543-8aa5-35670d888c17",
   "metadata": {},
   "source": [
    "## Coregistration\n",
    "\n",
    "When you're working with data from multiple sources, you'll want to coregister, or align, your data. This ensures that a value at position `(x, y)` from one dataset represents the same area as the value at position `(x, y)` from some other dataset.\n",
    "\n",
    "This example loads some data near Yazoo National Wildlife Refuge ([explorer](https://planetarycomputer.microsoft.com/explore?c=-90.9831%2C33.0868&z=12.20&d=sentinel-2-l2a&m=Most+recent+%28low+cloud%29&r=Natural+color)). We'll search for some STAC items over this area from Sentinel-2 Level 2-A."
   ]
  },
  {
   "cell_type": "code",
   "execution_count": null,
   "id": "0d8e27f4-e4e2-4ded-b20f-ae96fd900ed7",
   "metadata": {},
   "outputs": [],
   "source": [
    "area_of_interest = {\n",
    "    \"type\": \"Polygon\",\n",
    "    \"coordinates\": [\n",
    "        [\n",
    "            [-91.92, 33.43],\n",
    "            [-90.74, 33.41],\n",
    "            [-90.76, 32.42],\n",
    "            [-91.93, 32.44],\n",
    "            [-91.92, 33.43],\n",
    "        ]\n",
    "    ],\n",
    "}\n",
    "catalog = pystac_client.Client.open(\n",
    "    \"https://planetarycomputer.microsoft.com/api/stac/v1\"\n",
    ")\n",
    "\n",
    "sentinel_search = catalog.search(\n",
    "    intersects=area_of_interest,\n",
    "    datetime=\"2020-09-07/2020-09-08\",\n",
    "    collections=[\"sentinel-2-l2a\"],\n",
    ")\n",
    "\n",
    "sentinel_item = next(sentinel_search.get_items())  # select the first item\n",
    "sentinel_item = planetary_computer.sign(sentinel_item)"
   ]
  },
  {
   "cell_type": "markdown",
   "id": "909fd0f1-91fe-4e54-b9b5-7e53efe63004",
   "metadata": {},
   "source": [
    "And from Landsat 8 Collection 2 Level 2."
   ]
  },
  {
   "cell_type": "code",
   "execution_count": null,
   "id": "59016750-e5e7-4954-beac-dd46bd13cdd6",
   "metadata": {},
   "outputs": [],
   "source": [
    "search = catalog.search(\n",
    "    collections=[\"landsat-8-c2-l2\"],\n",
    "    intersects=sentinel_item.geometry,\n",
    "    datetime=\"2020-09-01/2020-09-30\",\n",
    "    query={\n",
    "        \"eo:cloud_cover\": {\n",
    "            \"lt\": 10,\n",
    "        }\n",
    "    },\n",
    ")\n",
    "\n",
    "landsat_items = [planetary_computer.sign(item).to_dict() for item in search.get_items()]"
   ]
  },
  {
   "cell_type": "markdown",
   "id": "0f09a3f7-d4d0-4d1c-bb73-a0ef92fdb240",
   "metadata": {},
   "source": [
    "Now we'll load these two datasets with xarray and stackstac."
   ]
  },
  {
   "cell_type": "code",
   "execution_count": null,
   "id": "53c3500d-afb2-4155-819c-5a898a033306",
   "metadata": {},
   "outputs": [],
   "source": [
    "sentinel_data = (\n",
    "    (\n",
    "        stackstac.stack(\n",
    "            sentinel_item,\n",
    "            resolution=100,\n",
    "            assets=[\"B02\", \"B03\", \"B04\", \"B08\"],  # blue, green, red, nir\n",
    "        )\n",
    "        .where(lambda x: x > 0)  # sentinel-2 uses 0 as nodata\n",
    "        .assign_coords(band=lambda x: x.common_name.rename(\"band\"))  # use common names\n",
    "    )\n",
    "    .isel(time=0)\n",
    "    .rename(\"sentinel\")\n",
    "    .persist()\n",
    ")\n",
    "sentinel_data"
   ]
  },
  {
   "cell_type": "markdown",
   "id": "c74d2e45-8645-4d5f-9987-445937c394be",
   "metadata": {},
   "source": [
    "Now we'll load the Landsat data, but we'll make sure to coregister it with the Sentinel data. This will include\n",
    "\n",
    "- resampling the Landsat item to match the resolution of the Sentinel data\n",
    "- reprojecting the Landsat items to the CRS of the Sentinel data\n",
    "- cropping the Landsat data to the bounds of the Sentinel data"
   ]
  },
  {
   "cell_type": "code",
   "execution_count": null,
   "id": "490a35b6-a36a-4173-a6d2-99b3abb62e6f",
   "metadata": {},
   "outputs": [],
   "source": [
    "landsat_data = (\n",
    "    (\n",
    "        stackstac.stack(\n",
    "            landsat_items,\n",
    "            resolution=sentinel_data.resolution,  # resample to Sentinel data resolution\n",
    "            epsg=sentinel_data.spec.epsg,  # reporoject to CRS of Sentinel data\n",
    "            bounds=sentinel_data.spec.bounds,  # set bounds to match Sentinel data\n",
    "            assets=[\"SR_B2\", \"SR_B3\", \"SR_B4\", \"SR_B5\"],  # blue, green, red, nir\n",
    "        )\n",
    "        .where(lambda x: x > 0)  # landsat-8 uses 0 as nodata\n",
    "        .assign_coords(band=sentinel_data.band.data)\n",
    "    )\n",
    "    .pipe(stackstac.mosaic)\n",
    "    .rename(\"landsat\")\n",
    "    .persist()\n",
    ")\n",
    "\n",
    "landsat_data"
   ]
  },
  {
   "cell_type": "markdown",
   "id": "e49538b5-632b-4e7b-a2ad-c58cbe42e77c",
   "metadata": {},
   "source": [
    "Now the data are coregistered. The coordinates match, so the values at each coordinate represent the same area on earth."
   ]
  },
  {
   "cell_type": "code",
   "execution_count": null,
   "id": "d4f6a72b-5be9-4aa5-b051-4692a00d38c0",
   "metadata": {},
   "outputs": [],
   "source": [
    "(landsat_data.x.data == sentinel_data.x.data).all()"
   ]
  },
  {
   "cell_type": "code",
   "execution_count": null,
   "id": "c31d5780-a3b6-4095-89fc-a5e400b92d46",
   "metadata": {},
   "outputs": [],
   "source": [
    "(landsat_data.y.data == sentinel_data.y.data).all()"
   ]
  },
  {
   "cell_type": "markdown",
   "id": "4475b9d8-44ab-4cde-a625-367c0b779372",
   "metadata": {},
   "source": [
    "Which means we can safely combine them into a single `xarray.Dataset`."
   ]
  },
  {
   "cell_type": "code",
   "execution_count": null,
   "id": "54a9e243-ac02-4a9d-9abf-8b7c401708ac",
   "metadata": {},
   "outputs": [],
   "source": [
    "import xarray as xr\n",
    "\n",
    "ds = xr.combine_by_coords([sentinel_data, landsat_data], join=\"exact\", compat=\"override\")\n",
    "ds"
   ]
  },
  {
   "cell_type": "markdown",
   "id": "c7d62c02-1a35-4741-8ebd-f2e77d9c6f63",
   "metadata": {},
   "source": [
    "With this coregistered dataset, we can do operations using data from each source. For example, you could compute NDVI using a red band from Landsat 8 and a near-infrared band from Sentinel 2."
   ]
  },
  {
   "cell_type": "code",
   "execution_count": null,
   "id": "5820513d-47c9-42b2-abd9-06b448259ebe",
   "metadata": {},
   "outputs": [],
   "source": [
    "nir = ds.sentinel.sel(band=\"nir\")\n",
    "red = ds.landsat.sel(band=\"red\")\n",
    "\n",
    "ndvi = (nir - red) / (nir + red)"
   ]
  },
  {
   "cell_type": "code",
   "execution_count": null,
   "id": "9a95f2fe-7474-4a8e-a972-2b6e6ccea837",
   "metadata": {},
   "outputs": [],
   "source": [
    "m = stackstac.show(ndvi, range=[-0.85, -0.25])\n",
    "m.scroll_wheel_zoom = True\n",
    "m"
   ]
  },
  {
   "cell_type": "markdown",
   "id": "84a54bbf-f42d-4df1-b848-6ca5836379e2",
   "metadata": {},
   "source": [
    "To recap\n",
    "\n",
    "- We used `pystac-client` to search the STAC API for Sentinel-2 and Landsat 8 scenes matching our criteria\n",
    "- We used `stackstac` to create DataArrays from both sets of STAC items, taking care to reproject and coregister the Landsat data to the same grid as the Sentinel data\n",
    "- We used standard xarray operations to combine the two DataArrays and compute NDVI"
   ]
  },
  {
   "cell_type": "markdown",
   "id": "cacebd7c-f472-4dfe-ac99-09c8ec3d6e13",
   "metadata": {},
   "source": [
    "## Surface tools\n",
    "\n",
    "Surface tools help you visualize and analyze elevation data. In this example, we'll look at data around Grand Teton National Park using data from the NASADEM digital elevation model ([explorer](https://planetarycomputer.microsoft.com/explore?c=-109.8162%2C43.5419&z=7.43&d=nasadem&r=Elevation+%28terrain%29&m=Most+recent))."
   ]
  },
  {
   "cell_type": "code",
   "execution_count": null,
   "id": "a50fcdd5-18c5-43a1-bad4-35a676a9c5a2",
   "metadata": {},
   "outputs": [],
   "source": [
    "import planetary_computer as pc\n",
    "import pystac_client\n",
    "import stackstac\n",
    "\n",
    "from datashader import Canvas\n",
    "from datashader.colors import Elevation\n",
    "from datashader.transfer_functions import shade\n",
    "from datashader.transfer_functions import stack\n",
    "from xrspatial.utils import height_implied_by_aspect_ratio"
   ]
  },
  {
   "cell_type": "code",
   "execution_count": null,
   "id": "05d42562-9bb7-4caa-982e-516de891b2c0",
   "metadata": {},
   "outputs": [],
   "source": [
    "catalog = pystac_client.Client.open(\n",
    "    \"https://planetarycomputer.microsoft.com/api/stac/v1/\"\n",
    ")\n",
    "point = {\"type\": \"Point\", \"coordinates\": [-110.6818, 43.7904]}\n",
    "\n",
    "search = catalog.search(collections=[\"nasadem\"], intersects=point, limit=1)\n",
    "nasadem_item = next(search.get_items())\n",
    "\n",
    "nasadem_item"
   ]
  },
  {
   "cell_type": "code",
   "execution_count": null,
   "id": "103f552d-2e40-4a2c-8876-6ab6f93ca043",
   "metadata": {},
   "outputs": [],
   "source": [
    "elevation_raster = stackstac.stack(\n",
    "    [pc.sign(nasadem_item).to_dict()],\n",
    "    epsg=6933,\n",
    "    resampling=rasterio.enums.Resampling.bilinear,\n",
    "    chunksize=2048,\n",
    ").squeeze()\n",
    "\n",
    "elevation_raster"
   ]
  },
  {
   "cell_type": "code",
   "execution_count": null,
   "id": "e8b04d48-6076-468b-92c1-e04e0680367a",
   "metadata": {},
   "outputs": [],
   "source": [
    "# get full extent of raster\n",
    "full_extent = (\n",
    "    elevation_raster.coords[\"x\"].min().item(),\n",
    "    elevation_raster.coords[\"y\"].min().item(),\n",
    "    elevation_raster.coords[\"x\"].max().item(),\n",
    "    elevation_raster.coords[\"y\"].max().item(),\n",
    ")\n",
    "\n",
    "# get ranges\n",
    "x_range = (full_extent[0], full_extent[2])\n",
    "y_range = (full_extent[1], full_extent[3])\n",
    "\n",
    "# set width and height\n",
    "W = 300\n",
    "H = height_implied_by_aspect_ratio(W, x_range, y_range)\n",
    "\n",
    "cvs = Canvas(plot_width=W, plot_height=H, x_range=x_range, y_range=y_range)"
   ]
  },
  {
   "cell_type": "code",
   "execution_count": null,
   "id": "2dc46e21-9106-4dd4-aefd-17f2cf4aa89a",
   "metadata": {},
   "outputs": [],
   "source": [
    "elevation_small = cvs.raster(\n",
    "    elevation_raster,\n",
    ")\n",
    "elevation_img = shade(elevation_small, cmap=Elevation, how=\"linear\")\n",
    "elevation_img"
   ]
  },
  {
   "cell_type": "code",
   "execution_count": null,
   "id": "05044e60-c6e8-4544-b767-ce83d061022e",
   "metadata": {},
   "outputs": [],
   "source": [
    "from xrspatial import hillshade\n",
    "\n",
    "hillshade_raster = hillshade(elevation_raster)\n",
    "hillshade_raster"
   ]
  },
  {
   "cell_type": "code",
   "execution_count": null,
   "id": "91c031f4-73d4-4b1c-9732-bfda975396d4",
   "metadata": {},
   "outputs": [],
   "source": [
    "hillshade_img = shade(\n",
    "    cvs.raster(hillshade_raster),\n",
    "    cmap=[\"#333333\", \"#C7C7C7\"],\n",
    "    alpha=200,\n",
    ")\n",
    "\n",
    "hillshade_img"
   ]
  },
  {
   "cell_type": "code",
   "execution_count": null,
   "id": "4a1366eb-b8c7-4073-bc51-983502fa347e",
   "metadata": {},
   "outputs": [],
   "source": [
    "terrain_img = shade(elevation_small, cmap=Elevation, alpha=128, how=\"linear\")\n",
    "stack(hillshade_img, terrain_img)"
   ]
  },
  {
   "cell_type": "code",
   "execution_count": null,
   "id": "89ef5411-5f87-4a09-ae19-d886ba4ce240",
   "metadata": {},
   "outputs": [],
   "source": [
    "from xrspatial import aspect\n",
    "from datashader.colors import viridis\n",
    "\n",
    "aspect_raster = aspect(elevation_raster)\n",
    "aspect_raster"
   ]
  },
  {
   "cell_type": "code",
   "execution_count": null,
   "id": "75d6f95f-1219-4849-b8a3-0ca0cf00557b",
   "metadata": {},
   "outputs": [],
   "source": [
    "aspect_img = shade(cvs.raster(aspect_raster), cmap=viridis)\n",
    "aspect_img"
   ]
  },
  {
   "cell_type": "code",
   "execution_count": null,
   "id": "fa5c0f0c-72d4-4cee-96a6-75af03f8d02e",
   "metadata": {},
   "outputs": [],
   "source": [
    "aspect_img = shade(cvs.raster(aspect_raster), cmap=viridis, alpha=128)\n",
    "stack(elevation_img, hillshade_img, aspect_img)"
   ]
  },
  {
   "cell_type": "markdown",
   "id": "d66a2475-ea12-40c3-9698-ba910b0c2bfe",
   "metadata": {},
   "source": [
    "xarray-spatial implements various other surface analysis tools like `curvature` and `slope`."
   ]
  },
  {
   "cell_type": "markdown",
   "id": "f0aa03df-231d-4cf6-9820-1a4020289046",
   "metadata": {},
   "source": [
    "## Proximity\n",
    "\n",
    "Proximity tools help you measure the distance between points. In this example, we'll use the JRC Global Surface Water dataset to measure the distance to the nearest water for a region of the Amazon rainforest ([Explorer](https://planetarycomputer.microsoft.com/explore?c=-52.5652%2C-7.4759&z=4.00&d=jrc-gsw&m=Most+recent&r=Water+occurrence]))"
   ]
  },
  {
   "cell_type": "code",
   "execution_count": null,
   "id": "ae7e9c5b-023d-4484-869f-c2dcb79a62cb",
   "metadata": {},
   "outputs": [],
   "source": [
    "from xrspatial import proximity\n",
    "from matplotlib.colors import Normalize, ListedColormap\n",
    "\n",
    "bounds = [-57.151965, -2.530125, -55.710724, -1.179033]\n",
    "\n",
    "jrc = catalog.search(collections=[\"jrc-gsw\"], bbox=bounds)\n",
    "\n",
    "items = list(jrc.get_items())\n",
    "print(f\"Returned {len(items)} Items\")"
   ]
  },
  {
   "cell_type": "code",
   "execution_count": null,
   "id": "c3ed4c15-cb00-4b1f-b4dd-3971653835fc",
   "metadata": {},
   "outputs": [],
   "source": [
    "item = items[0]\n",
    "\n",
    "assets_of_interest = [\"extent\", \"seasonality\", \"transitions\"]\n",
    "\n",
    "data = (\n",
    "    stackstac.stack(\n",
    "        [pc.sign(item).to_dict()],\n",
    "        assets=assets_of_interest,\n",
    "        bounds=bounds,\n",
    "        chunksize=3000,\n",
    "    )\n",
    "    .isel(time=0)\n",
    "    .persist()\n",
    ")\n",
    "\n",
    "data"
   ]
  },
  {
   "cell_type": "code",
   "execution_count": null,
   "id": "b3f5126f-b5ee-4f6a-bcfd-4d0c5b919193",
   "metadata": {},
   "outputs": [],
   "source": [
    "cmaps = {}\n",
    "\n",
    "for asset_key in assets_of_interest:\n",
    "    asset = item.assets[asset_key]\n",
    "    with rasterio.open(pc.sign(item.assets[asset_key].href)) as src:\n",
    "        colormap_def = src.colormap(1)  # get metadata colormap for band 1\n",
    "        colormap = [\n",
    "            np.array(colormap_def[i]) / 256 for i in range(256)\n",
    "        ]  # transform to matplotlib color format\n",
    "    cmaps[asset_key] = ListedColormap(colormap)"
   ]
  },
  {
   "cell_type": "code",
   "execution_count": null,
   "id": "1af363d8-994c-4425-897f-dbf192677640",
   "metadata": {},
   "outputs": [],
   "source": [
    "norm = Normalize(0, 255)\n",
    "\n",
    "fig, ax = plt.subplots(nrows=1, ncols=3, figsize=(20, 15))\n",
    "\n",
    "for i, asset_key in enumerate(assets_of_interest):\n",
    "    ax[i].imshow(\n",
    "        data.sel(band=asset_key),\n",
    "        norm=norm,\n",
    "        cmap=cmaps[asset_key],\n",
    "    )\n",
    "    ax[i].set_title(asset_key, fontdict={\"fontsize\": 15})\n",
    "    ax[i].set_axis_off()"
   ]
  },
  {
   "cell_type": "markdown",
   "id": "d285f041-9cc1-4233-b197-1c0de72a8173",
   "metadata": {},
   "source": [
    "We'll use xarray-spatial's `proximity` function. By default, this computes the distance (euclidean by default) from each point in the dataset to the nearest *non-zero* point. That works well with the JRC dataset, which sets points that aren't covered by water to 0."
   ]
  },
  {
   "cell_type": "code",
   "execution_count": null,
   "id": "6a487046-47d3-4d8b-93d0-2d4dd5da7d77",
   "metadata": {},
   "outputs": [],
   "source": [
    "extent_data = data.sel(band=\"extent\").compute()\n",
    "extent_data"
   ]
  },
  {
   "cell_type": "code",
   "execution_count": null,
   "id": "96a4477e-1590-402b-9561-2c0360145af0",
   "metadata": {},
   "outputs": [],
   "source": [
    "extent_proximity_default = proximity(extent_data)\n",
    "extent_proximity_default.name = \"\"\"\n",
    "    Water Extent proximity distance\n",
    "    (Euclidean max_distance=infinity)\n",
    "\"\"\""
   ]
  },
  {
   "cell_type": "code",
   "execution_count": null,
   "id": "e3306132-bb8b-42f5-b94b-7df3ca3ec9b1",
   "metadata": {},
   "outputs": [],
   "source": [
    "extent_proximity_default"
   ]
  },
  {
   "cell_type": "code",
   "execution_count": null,
   "id": "b57d3a32-bfb3-42fd-943b-a9bdd1974b6d",
   "metadata": {},
   "outputs": [],
   "source": [
    "fig, ax = plt.subplots(figsize=(8, 8))\n",
    "\n",
    "extent_proximity_default.plot.imshow(cmap=\"Greens_r\", add_colorbar=False, ax=ax)\n",
    "extent_data.plot.imshow(\n",
    "    norm=norm, cmap=cmaps[\"extent\"], add_colorbar=False, alpha=0.5, ax=ax\n",
    ")\n",
    "ax.set_axis_off()\n",
    "ax.set(title=extent_proximity_default.name);"
   ]
  },
  {
   "cell_type": "markdown",
   "id": "38371040-8490-4e39-97a2-ef314ae934e7",
   "metadata": {},
   "source": [
    "There are various other ways to compute proximity, for example the direction to the nearest water."
   ]
  },
  {
   "cell_type": "markdown",
   "id": "520fcbbc-7df0-4c7e-9dbb-b6f3a1661281",
   "metadata": {},
   "source": [
    "## Zonal statistics\n",
    "\n",
    "Zonal statistics help you better understand data from one source by analyzing it for different zones defined by another source.\n",
    "\n",
    "* One dataset gives the *zones* (typically discrete integer codes)\n",
    "* A second dataset gives the *values*, which are aggregated per zone"
   ]
  },
  {
   "cell_type": "code",
   "execution_count": null,
   "id": "476bfd32-b999-447c-8c91-ca3b7eaff25e",
   "metadata": {},
   "outputs": [],
   "source": [
    "bounds = (-98.00080760573508, 32.99921674609716, -96.9991860639418, 34.000729644613706)\n",
    "\n",
    "landcover_search = catalog.search(collections=[\"io-lulc\"], bbox=bounds)\n",
    "landcover_items = list(landcover_search.get_items())\n",
    "signed_items = [pc.sign(item).to_dict() for item in landcover_items]\n",
    "\n",
    "landcover_data = (\n",
    "    stackstac.stack(\n",
    "        signed_items,\n",
    "        epsg=3857,\n",
    "        bounds_latlon=bounds,\n",
    "        dtype=\"int8\",\n",
    "        fill_value=0,\n",
    "        chunksize=2048,\n",
    "        resolution=100,\n",
    "    )\n",
    "    .pipe(stackstac.mosaic)\n",
    "    .squeeze()\n",
    "    .rename(\"Landcover\")\n",
    "    .persist()\n",
    ")\n",
    "landcover_data"
   ]
  },
  {
   "cell_type": "code",
   "execution_count": null,
   "id": "74b227c0-d5c3-4d73-952f-1bc31b6c3a3e",
   "metadata": {},
   "outputs": [],
   "source": [
    "landcover_labels = dict(\n",
    "    enumerate(landcover_data.coords[\"label:classes\"].item()[\"classes\"])\n",
    ")\n",
    "landcover_labels"
   ]
  },
  {
   "cell_type": "code",
   "execution_count": null,
   "id": "421ef0e9-403a-446c-afda-e5e1a6797003",
   "metadata": {},
   "outputs": [],
   "source": [
    "import numpy as np\n",
    "from matplotlib.colors import ListedColormap\n",
    "\n",
    "class_count = len(landcover_labels)\n",
    "\n",
    "with rasterio.open(signed_items[0][\"assets\"][\"data\"][\"href\"]) as src:\n",
    "    landcover_colormap_def = src.colormap(1)  # get metadata colormap for band 1\n",
    "    landcover_colormap = [\n",
    "        np.array(landcover_colormap_def[i]) / 255 for i in range(class_count)\n",
    "    ]\n",
    "\n",
    "landcover_cmap = ListedColormap(landcover_colormap)\n",
    "landcover_cmap"
   ]
  },
  {
   "cell_type": "code",
   "execution_count": null,
   "id": "df030dc4-ee80-4826-aa16-1d523d592063",
   "metadata": {},
   "outputs": [],
   "source": [
    "sentinel_search = catalog.search(\n",
    "    collections=[\"sentinel-2-l2a\"],\n",
    "    bbox=bounds,\n",
    "    datetime=\"2020-07-01/2020-07-30\",\n",
    "    query={\n",
    "        \"eo:cloud_cover\": {\n",
    "            \"lt\": 10,\n",
    "        }\n",
    "    },\n",
    ")\n",
    "\n",
    "sentinel_items = [pc.sign(item).to_dict() for item in sentinel_search.get_items()]\n",
    "\n",
    "sentinel_data = (\n",
    "    (\n",
    "        stackstac.stack(\n",
    "            sentinel_items,\n",
    "            resolution=landcover_data.resolution,\n",
    "            epsg=landcover_data.spec.epsg,\n",
    "            bounds=landcover_data.spec.bounds,\n",
    "            assets=[\"B02\", \"B03\", \"B04\", \"B08\"],  # blue, green, red, nir\n",
    "            chunksize=2048,\n",
    "        )\n",
    "        .assign_coords(band=lambda x: x.common_name.rename(\"band\"))  # use common names\n",
    "        .where(lambda x: x > 0, other=np.nan)  # Sentinels uses 0 as nodata\n",
    "    )\n",
    "    .median(dim=\"time\", keep_attrs=True)\n",
    "    .persist()\n",
    ")\n",
    "sentinel_data"
   ]
  },
  {
   "cell_type": "code",
   "execution_count": null,
   "id": "0f7d7be8-5258-458d-9074-a0d148968469",
   "metadata": {},
   "outputs": [],
   "source": [
    "sentinel_img = xrspatial.multispectral.true_color(\n",
    "    sentinel_data.sel(band=\"red\"),\n",
    "    sentinel_data.sel(band=\"green\"),\n",
    "    sentinel_data.sel(band=\"blue\"),\n",
    "    c=30,\n",
    "    th=0.075,\n",
    "    name=\"True color (Sentinel)\",\n",
    ")"
   ]
  },
  {
   "cell_type": "code",
   "execution_count": null,
   "id": "0e38d9f8-1c32-45ee-bd43-13bd9c79d15b",
   "metadata": {},
   "outputs": [],
   "source": [
    "fig, (ax1, ax2) = plt.subplots(ncols=2, figsize=(18, 8))\n",
    "\n",
    "landcover_data.plot.imshow(ax=ax1, cmap=landcover_cmap, add_colorbar=False)\n",
    "sentinel_img.plot.imshow(ax=ax2)\n",
    "plt.tight_layout()"
   ]
  },
  {
   "cell_type": "code",
   "execution_count": null,
   "id": "9c60e4f7-198a-4b27-9b78-d405fcab3ecc",
   "metadata": {},
   "outputs": [],
   "source": [
    "red, nir = sentinel_data.sel(band=[\"red\", \"nir\"])\n",
    "ndvi = ((nir - red) / (nir + red)).persist()\n",
    "ndvi"
   ]
  },
  {
   "cell_type": "markdown",
   "id": "45709b02-f563-41a9-ad3c-3f5157e837c3",
   "metadata": {},
   "source": [
    "So `landcover_data` is our *zones* raster, and `ndvi` is our `values` raster."
   ]
  },
  {
   "cell_type": "code",
   "execution_count": null,
   "id": "9c3a0e00-fb25-4859-9cf4-8f8456b70fe9",
   "metadata": {},
   "outputs": [],
   "source": [
    "import dask\n",
    "from xrspatial import zonal_stats\n",
    "\n",
    "landcover_data, ndvi = dask.compute(landcover_data, ndvi)\n",
    "\n",
    "quantile_stats = zonal_stats(\n",
    "    zones=landcover_data,\n",
    "    values=ndvi,\n",
    "    stats_funcs=[\"mean\", \"max\", \"min\", \"count\"],\n",
    ")\n",
    "quantile_stats"
   ]
  },
  {
   "cell_type": "code",
   "execution_count": null,
   "id": "d2b23b95-acd0-49ff-b057-0c334ad47433",
   "metadata": {},
   "outputs": [],
   "source": [
    "styler = (\n",
    "    quantile_stats.set_index(\"zone\")\n",
    "    .rename(landcover_labels)\n",
    "    .round(2)\n",
    "    .style.format(precision=2)\n",
    "    .background_gradient()\n",
    ")\n",
    "styler"
   ]
  },
  {
   "cell_type": "code",
   "execution_count": null,
   "id": "dc34b5ff-e739-4a56-b043-4b9f83d26686",
   "metadata": {},
   "outputs": [],
   "source": [
    "quantile_stats.set_index(\"zone\").rename(landcover_labels)[\"mean\"].sort_values().plot.barh(width=0.9);"
   ]
  }
 ],
 "metadata": {
  "kernelspec": {
   "display_name": "Python 3 (ipykernel)",
   "language": "python",
   "name": "python3"
  },
  "language_info": {
   "codemirror_mode": {
    "name": "ipython",
    "version": 3
   },
   "file_extension": ".py",
   "mimetype": "text/x-python",
   "name": "python",
   "nbconvert_exporter": "python",
   "pygments_lexer": "ipython3",
   "version": "3.8.12"
  }
 },
 "nbformat": 4,
 "nbformat_minor": 5
}
